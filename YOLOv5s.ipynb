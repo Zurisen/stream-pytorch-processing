{
 "cells": [
  {
   "cell_type": "code",
   "execution_count": 7,
   "id": "73051f36-d19a-46d0-9bf1-aaea9daef067",
   "metadata": {},
   "outputs": [
    {
     "name": "stderr",
     "output_type": "stream",
     "text": [
      "Using cache found in C:\\Users\\CMT/.cache\\torch\\hub\\ultralytics_yolov5_master\n",
      "YOLOv5  2023-4-5 Python-3.9.12 torch-2.0.0+cpu CPU\n",
      "\n",
      "Fusing layers... \n",
      "YOLOv5s summary: 213 layers, 7225885 parameters, 0 gradients\n",
      "Adding AutoShape... \n"
     ]
    }
   ],
   "source": [
    "import torch\n",
    "from io import BytesIO\n",
    "from PIL import Image\n",
    "#%pylab inline \n",
    "import cv2\n",
    "from IPython.display import clear_output\n",
    "from sort import *\n",
    "from utils import *\n",
    "model = torch.hub.load('ultralytics/yolov5', 'yolov5s', pretrained=True)"
   ]
  },
  {
   "cell_type": "code",
   "execution_count": 9,
   "id": "46c78a81-9cd1-4e5d-a804-1cae0295a417",
   "metadata": {},
   "outputs": [],
   "source": [
    "device = 'cuda' if torch.cuda.is_available() else 'cpu'\n",
    "model.to(device)\n",
    "model.eval()\n",
    "Tensor = torch.cuda.FloatTensor"
   ]
  },
  {
   "cell_type": "code",
   "execution_count": 24,
   "id": "53cf8a06-2900-4c0f-bd7d-42cbb9ed8586",
   "metadata": {},
   "outputs": [
    {
     "name": "stdout",
     "output_type": "stream",
     "text": [
      "Frame  2133\n",
      "Finished!\n"
     ]
    }
   ],
   "source": [
    "videopath = 'etc/drone.mp4'\n",
    "\n",
    "\n",
    "\n",
    "cmap = plt.get_cmap('tab20b')\n",
    "colors = [cmap(i)[:3] for i in np.linspace(0, 1, 20)]\n",
    "\n",
    "# initialize Sort object and video capture\n",
    "vid = cv2.VideoCapture(videopath)\n",
    "\n",
    "# Save output to avi video\n",
    "fourcc = cv2.VideoWriter_fourcc(*\"XVID\")\n",
    "fps = 25.0\n",
    "height = 480\n",
    "width = 848\n",
    "out = cv2.VideoWriter(\"output.avi\", fourcc, fps, (width, height))\n",
    "mot_tracker = Sort(max_age=int(fps)) \n",
    "\n",
    "#while(True):\n",
    "counter = 0\n",
    "while vid.isOpened():\n",
    "    print(\"Frame \", counter)\n",
    "    ret, frame = vid.read()\n",
    "    if frame is None:\n",
    "        print('Finished!')\n",
    "        out.release()\n",
    "        break\n",
    "    counter += 1\n",
    "    #frame = cv2.cvtColor(frame, cv2.COLOR_BGR2RGB)\n",
    "    #frame = cv2.flip(frame, 0)\n",
    "    #pilimg = Image.fromarray(frame)\n",
    "    detections = model(frame)\n",
    "    #print(\"N det: \", len(detections.pandas().xyxy[0]))\n",
    "\n",
    "\n",
    "    #detections.render()  # updates results.ims with boxes and labels\n",
    "    #for im in detections.ims:\n",
    "    #    buffered = BytesIO()\n",
    "    #    im_base64 = Image.fromarray(im)\n",
    "    #frame = cv2.cvtColor(numpy.array(im_base64), cv2.COLOR_RGB2BGR)\n",
    "    if detections is not None:\n",
    "        print(\"N det: \", len(detections.pandas().xyxy[0]))\n",
    "        tracked_objects = mot_tracker.update(detections.pandas().xyxy[0].iloc[:,:5].to_numpy(), detections.pandas().xyxy[0].name.values)\n",
    "        #tracked_objects = mot_tracker.update(detections.pandas().xyxy[0].to_numpy())\n",
    "        print(\"N tracked: \", len(tracked_objects))\n",
    "\n",
    "        for x1, y1, x2, y2, obj_id, obj_class in tracked_objects:\n",
    "            x1, y1, x2, y2, obj_id = int(float(x1)), int(float(y1)), int(float(x2)), int(float(y2)), int(obj_id)\n",
    "\n",
    "            color = colors[int(obj_id) % len(colors)]\n",
    "            color = [i * 255 for i in color]\n",
    "            #cv2.rectangle(frame, (x1, y1), (x1+box_w, y1+box_h), color, 4)\n",
    "            #cv2.rectangle(frame, (x1, y1-35), (x1+len(str(obj_id))*19+60, y1), color, -1)\n",
    "            #cv2.putText(frame, str(obj_id), (x1, y1 - 10), cv2.FONT_HERSHEY_SIMPLEX, 1, (255,255,255), 3)\n",
    "            \n",
    "            # Draw the bounding box around the tracked object\n",
    "            cv2.rectangle(frame, (x1, y1), (x2, y2), color, 3)\n",
    "            cv2.rectangle(frame, (x1, y1), (x1+len(obj_class+' - '+str(obj_id))*18, y1-25), color, -1)\n",
    "            cv2.putText(frame, obj_class+' - '+str(obj_id), (x1, y1), cv2.FONT_HERSHEY_SIMPLEX, 1, (255,255,255), 2)\n",
    "    out.write(frame)\n",
    "    clear_output(wait=True)\n"
   ]
  },
  {
   "cell_type": "code",
   "execution_count": 23,
   "id": "48985c8f-f103-43d8-afee-b3980f0c1d60",
   "metadata": {},
   "outputs": [],
   "source": [
    "out.release()"
   ]
  },
  {
   "cell_type": "code",
   "execution_count": 17,
   "id": "b1a63735-6e01-4ccb-a012-6ffa45876baf",
   "metadata": {},
   "outputs": [
    {
     "data": {
      "text/plain": [
       "(480, 848, 3)"
      ]
     },
     "execution_count": 17,
     "metadata": {},
     "output_type": "execute_result"
    }
   ],
   "source": [
    "frame.shape"
   ]
  },
  {
   "cell_type": "code",
   "execution_count": null,
   "id": "163e6e5a-7d2d-4a06-832c-e4cee9c4573e",
   "metadata": {},
   "outputs": [],
   "source": []
  }
 ],
 "metadata": {
  "kernelspec": {
   "display_name": "Python 3 (ipykernel)",
   "language": "python",
   "name": "python3"
  },
  "language_info": {
   "codemirror_mode": {
    "name": "ipython",
    "version": 3
   },
   "file_extension": ".py",
   "mimetype": "text/x-python",
   "name": "python",
   "nbconvert_exporter": "python",
   "pygments_lexer": "ipython3",
   "version": "3.9.12"
  }
 },
 "nbformat": 4,
 "nbformat_minor": 5
}
